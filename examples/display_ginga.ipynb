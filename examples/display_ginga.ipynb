{
 "cells": [
  {
   "cell_type": "code",
   "execution_count": null,
   "metadata": {
    "collapsed": false
   },
   "outputs": [],
   "source": [
    "import numpy as np\n",
    "\n",
    "%matplotlib notebook\n",
    "import matplotlib.pyplot as plt"
   ]
  },
  {
   "cell_type": "code",
   "execution_count": null,
   "metadata": {
    "collapsed": true
   },
   "outputs": [],
   "source": [
    "import lsst.afw.image as afwImage\n",
    "import lsst.afw.display as afwDisplay"
   ]
  },
  {
   "cell_type": "code",
   "execution_count": null,
   "metadata": {
    "collapsed": false
   },
   "outputs": [],
   "source": [
    "afwDisplay.setDefaultBackend(\"ginga\" if True else \"ds9\")\n",
    "afwDisplay.Display.delAllDisplays()\n",
    "\n",
    "disp = afwDisplay.Display(1, open=True, cancas_type='png')\n",
    "disp2 = afwDisplay.Display(2, open=True)"
   ]
  },
  {
   "cell_type": "code",
   "execution_count": null,
   "metadata": {
    "collapsed": false
   },
   "outputs": [],
   "source": [
    "exp = afwImage.ExposureF(\"/Users/rhl/LSST/afw/tests/data/HSC-0908120-056-small.fits\")\n",
    "\n",
    "disp.setMaskTransparency(80)\n",
    "disp.mtv(exp)\n",
    "\n",
    "disp.show()"
   ]
  },
  {
   "cell_type": "code",
   "execution_count": null,
   "metadata": {
    "collapsed": false
   },
   "outputs": [],
   "source": [
    "disp.shutdown_server()"
   ]
  },
  {
   "cell_type": "code",
   "execution_count": null,
   "metadata": {
    "collapsed": false
   },
   "outputs": [],
   "source": [
    "im = afwImage.MaskedImageF(10, 20)\n",
    "im[5, 10] = 1\n",
    "\n",
    "disp2.mtv(im)\n",
    "disp2.dot('foo', 3, 5, ctype=afwDisplay.GREEN)\n",
    "disp2.dot('@:1,0.2,2', 3, 7, ctype=afwDisplay.GREEN)\n",
    "disp2.line([(0, 2), (10, 15), (10, 0)], ctype=afwDisplay.RED)\n",
    "\n",
    "#disp2.get_viewer().embed()"
   ]
  },
  {
   "cell_type": "code",
   "execution_count": null,
   "metadata": {
    "collapsed": false
   },
   "outputs": [],
   "source": [
    "disp2.show()"
   ]
  },
  {
   "cell_type": "code",
   "execution_count": null,
   "metadata": {
    "collapsed": false
   },
   "outputs": [],
   "source": [
    "#disp.erase()\n",
    "#disp.zoom(16)\n",
    "disp.pan(0, 0)"
   ]
  }
 ],
 "metadata": {
  "kernelspec": {
   "display_name": "Python 2",
   "language": "python",
   "name": "python2"
  },
  "language_info": {
   "codemirror_mode": {
    "name": "ipython",
    "version": 2
   },
   "file_extension": ".py",
   "mimetype": "text/x-python",
   "name": "python",
   "nbconvert_exporter": "python",
   "pygments_lexer": "ipython2",
   "version": "2.7.11"
  }
 },
 "nbformat": 4,
 "nbformat_minor": 0
}
