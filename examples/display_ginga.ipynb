{
 "cells": [
  {
   "cell_type": "code",
   "execution_count": null,
   "metadata": {
    "collapsed": true
   },
   "outputs": [],
   "source": [
    "import numpy as np\n",
    "\n",
    "%matplotlib notebook\n",
    "import matplotlib.pyplot as plt"
   ]
  },
  {
   "cell_type": "code",
   "execution_count": null,
   "metadata": {
    "collapsed": true
   },
   "outputs": [],
   "source": [
    "import lsst.afw.image as afwImage\n",
    "import lsst.afw.display as afwDisplay"
   ]
  },
  {
   "cell_type": "code",
   "execution_count": null,
   "metadata": {
    "collapsed": false
   },
   "outputs": [],
   "source": [
    "import lsst.display.ginga\n",
    "\n",
    "print lsst.display.ginga.DisplayImpl.server\n",
    "disp = afwDisplay.Display(backend=\"ginga\")\n",
    "print lsst.display.ginga.DisplayImpl.server"
   ]
  },
  {
   "cell_type": "code",
   "execution_count": null,
   "metadata": {
    "collapsed": false
   },
   "outputs": [],
   "source": [
    "print disp._impl.server\n",
    "disp2 = afwDisplay.Display(2, backend=\"ginga\")\n",
    "print disp2._impl.server"
   ]
  },
  {
   "cell_type": "code",
   "execution_count": null,
   "metadata": {
    "collapsed": false
   },
   "outputs": [],
   "source": [
    "#disp.shutdown_server()"
   ]
  },
  {
   "cell_type": "code",
   "execution_count": null,
   "metadata": {
    "collapsed": false
   },
   "outputs": [],
   "source": [
    "exp = afwImage.ExposureF(\"/Users/rhl/LSST/afw/tests/data/HSC-0908120-056-small.fits\")\n",
    "disp.mtv(exp)\n",
    "\n",
    "md = exp.getWcs().getFitsMetadata().toDict()\n",
    "for key in md.keys():\n",
    "    if re.search(r\"^([AB]|[AB]P)_\", key):\n",
    "        del md[key]\n",
    "\n",
    "print md"
   ]
  },
  {
   "cell_type": "code",
   "execution_count": null,
   "metadata": {
    "collapsed": false
   },
   "outputs": [],
   "source": [
    "im = afwImage.MaskedImageF(10, 20)\n",
    "im[5, 10] = 1\n",
    "\n",
    "disp.mtv(im)\n",
    "disp.dot('foo', 3, 5, ctype=afwDisplay.GREEN)\n",
    "disp.dot('@:1,0.2,2', 3, 7, ctype=afwDisplay.GREEN)\n",
    "disp.line([(0, 2), (10, 15), (10, 0)], ctype=afwDisplay.RED)\n",
    "\n",
    "disp.get_viewer().embed()"
   ]
  },
  {
   "cell_type": "code",
   "execution_count": null,
   "metadata": {
    "collapsed": false
   },
   "outputs": [],
   "source": [
    "disp.erase()\n",
    "disp.zoom(16)\n",
    "disp.pan(0,0)"
   ]
  },
  {
   "cell_type": "code",
   "execution_count": null,
   "metadata": {
    "collapsed": false
   },
   "outputs": [],
   "source": [
    "disp.get_viewer().open()"
   ]
  }
 ],
 "metadata": {
  "kernelspec": {
   "display_name": "Python 2",
   "language": "python",
   "name": "python2"
  },
  "language_info": {
   "codemirror_mode": {
    "name": "ipython",
    "version": 2
   },
   "file_extension": ".py",
   "mimetype": "text/x-python",
   "name": "python",
   "nbconvert_exporter": "python",
   "pygments_lexer": "ipython2",
   "version": "2.7.11"
  }
 },
 "nbformat": 4,
 "nbformat_minor": 0
}
